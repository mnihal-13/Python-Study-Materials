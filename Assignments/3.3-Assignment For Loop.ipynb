{
 "cells": [
  {
   "cell_type": "markdown",
   "metadata": {},
   "source": [
    "##### 1. Find numbers which are divisible by 7 and multiple of 5 between a range"
   ]
  },
  {
   "cell_type": "code",
   "execution_count": 2,
   "metadata": {},
   "outputs": [
    {
     "name": "stdout",
     "output_type": "stream",
     "text": [
      "[35, 70]\n"
     ]
    }
   ],
   "source": [
    "num1 = 1\n",
    "num2 = 100\n",
    "\n",
    "res=[]\n",
    "\n",
    "for i in range(num1,num2 + 1):\n",
    "    if i % 7 == 0 and i % 5 == 0:\n",
    "        res.append(i)\n",
    "print(res) "
   ]
  },
  {
   "cell_type": "markdown",
   "metadata": {},
   "source": [
    "##### 2. Print the following pattern\n",
    "1\n",
    "\n",
    "1   2\n",
    "\n",
    "1   2    3\n",
    "\n",
    "1   2    3      4\n"
   ]
  },
  {
   "cell_type": "code",
   "execution_count": null,
   "metadata": {},
   "outputs": [],
   "source": []
  },
  {
   "cell_type": "code",
   "execution_count": 8,
   "metadata": {},
   "outputs": [
    {
     "ename": "IndentationError",
     "evalue": "expected an indented block after 'for' statement on line 2 (2892669011.py, line 3)",
     "output_type": "error",
     "traceback": [
      "\u001b[1;36m  Cell \u001b[1;32mIn[8], line 3\u001b[1;36m\u001b[0m\n\u001b[1;33m    print()\u001b[0m\n\u001b[1;37m           ^\u001b[0m\n\u001b[1;31mIndentationError\u001b[0m\u001b[1;31m:\u001b[0m expected an indented block after 'for' statement on line 2\n"
     ]
    }
   ],
   "source": [
    "for i in range(5):\n",
    "    for j in range(1, i+1):\n",
    "print()"
   ]
  },
  {
   "cell_type": "code",
   "execution_count": 4,
   "metadata": {},
   "outputs": [
    {
     "name": "stdout",
     "output_type": "stream",
     "text": [
      "1 \n",
      "1 2 \n",
      "1 2 3 \n",
      "1 2 3 4 \n",
      "1 2 3 4 5 \n"
     ]
    }
   ],
   "source": [
    "rows = 5\n",
    "\n",
    "for i in range(1, rows + 1):\n",
    "    for j in range(1, i + 1):\n",
    "        print(j, end=\" \")\n",
    "    print()\n"
   ]
  },
  {
   "cell_type": "markdown",
   "metadata": {},
   "source": [
    "##### 3. Accept number from user an calculate the sum of all numbers between 1 and given number"
   ]
  },
  {
   "cell_type": "code",
   "execution_count": 9,
   "metadata": {},
   "outputs": [
    {
     "name": "stdout",
     "output_type": "stream",
     "text": [
      "Enter A Value5\n",
      "Sum of  5 is :\u001b[1m\u001b[0m 15\n"
     ]
    }
   ],
   "source": [
    "num = int(input(\"Enter A Value\"))\n",
    "\n",
    "SumOFNum = 0\n",
    "\n",
    "for i in range(1 , num + 1):\n",
    "    SumOFNum += i\n",
    "\n",
    "print(\"Sum of \",num,\"is :\", SumOFNum)\n",
    "\n"
   ]
  },
  {
   "cell_type": "markdown",
   "metadata": {},
   "source": [
    "##### 4. Print multiplication table of a given number upto a given range"
   ]
  },
  {
   "cell_type": "code",
   "execution_count": 7,
   "metadata": {},
   "outputs": [
    {
     "name": "stdout",
     "output_type": "stream",
     "text": [
      "Enter A Value 5\n",
      "Enter The Limit5\n",
      "1 x 5 = 5\n",
      "2 x 5 = 10\n",
      "3 x 5 = 15\n",
      "4 x 5 = 20\n",
      "5 x 5 = 25\n"
     ]
    }
   ],
   "source": [
    "num = int(input(\"Enter A Value \"))\n",
    "limit = int(input(\"Enter The Limit\"))\n",
    "\n",
    "for i in range(1, limit + 1):\n",
    "    \n",
    "    result: int = num * i\n",
    "        \n",
    "    print(i, \"x\", num , \"=\" ,  result)\n"
   ]
  },
  {
   "cell_type": "markdown",
   "metadata": {},
   "source": [
    "##### 5. Print the total number of digits in a number"
   ]
  },
  {
   "cell_type": "code",
   "execution_count": 6,
   "metadata": {},
   "outputs": [
    {
     "name": "stdout",
     "output_type": "stream",
     "text": [
      "Total Number Of Digits:  12\n"
     ]
    }
   ],
   "source": [
    "num = 562001142004\n",
    "totalNum = len(str(num))\n",
    "print (\"Total Number Of Digits: \",totalNum)"
   ]
  },
  {
   "cell_type": "markdown",
   "metadata": {},
   "source": [
    "##### 6. Write a program to count number of even and odd number from a series of numbers given by user"
   ]
  },
  {
   "cell_type": "code",
   "execution_count": 12,
   "metadata": {},
   "outputs": [
    {
     "name": "stdout",
     "output_type": "stream",
     "text": [
      "Enter The Values With Spaces : 1 2 3 45 \n"
     ]
    },
    {
     "ename": "SyntaxError",
     "evalue": "invalid syntax (<string>, line 1)",
     "output_type": "error",
     "traceback": [
      "Traceback \u001b[1;36m(most recent call last)\u001b[0m:\n",
      "\u001b[0m  File \u001b[0;32m~\\anaconda3\\Lib\\site-packages\\IPython\\core\\interactiveshell.py:3550\u001b[0m in \u001b[0;35mrun_code\u001b[0m\n    exec(code_obj, self.user_global_ns, self.user_ns)\u001b[0m\n",
      "\u001b[1;36m  Cell \u001b[1;32mIn[12], line 1\u001b[1;36m\n\u001b[1;33m    inp = list(eval(input (\"Enter The Values With Spaces : \")))\u001b[1;36m\n",
      "\u001b[1;36m  File \u001b[1;32m<string>:1\u001b[1;36m\u001b[0m\n\u001b[1;33m    1 2 3 45\u001b[0m\n\u001b[1;37m      ^\u001b[0m\n\u001b[1;31mSyntaxError\u001b[0m\u001b[1;31m:\u001b[0m invalid syntax\n"
     ]
    }
   ],
   "source": [
    "inp = list(eval(input (\"Enter The Values With Spaces : \")))\n",
    "even = 0 \n",
    "odd = 0 \n",
    "\n",
    "for i in inp:\n",
    "    i = int (i)\n",
    "    if i % 2 == 0:\n",
    "        even += 1\n",
    "    else :\n",
    "        odd +=1\n",
    "        \n",
    "print (\"Even Numbers Are : \",even )\n",
    "print (\"Odd Numbers Are : \",odd )"
   ]
  },
  {
   "cell_type": "code",
   "execution_count": 10,
   "metadata": {},
   "outputs": [
    {
     "name": "stdout",
     "output_type": "stream",
     "text": [
      "Enter The Values With Spaces : 1 3 5 56 8 5 \n",
      "Even Numbers Are :  2\n",
      "Odd Numbers Are :  4\n"
     ]
    }
   ],
   "source": [
    "even = 0 \n",
    "odd = 0 \n",
    "\n",
    "inp = input (\"Enter The Values With Spaces : \")\n",
    "\n",
    "splits = inp.split()\n",
    "\n",
    "for i in splits:\n",
    "    i = int (i)\n",
    "    if i % 2 == 0:\n",
    "        even += 1\n",
    "    else :\n",
    "        odd +=1\n",
    "        \n",
    "print (\"Even Numbers Are : \",even )\n",
    "print (\"Odd Numbers Are : \",odd )"
   ]
  },
  {
   "cell_type": "code",
   "execution_count": null,
   "metadata": {},
   "outputs": [],
   "source": []
  },
  {
   "cell_type": "code",
   "execution_count": 1,
   "metadata": {},
   "outputs": [
    {
     "ename": "NameError",
     "evalue": "name 'splits' is not defined",
     "output_type": "error",
     "traceback": [
      "\u001b[1;31m---------------------------------------------------------------------------\u001b[0m",
      "\u001b[1;31mNameError\u001b[0m                                 Traceback (most recent call last)",
      "Cell \u001b[1;32mIn[1], line 1\u001b[0m\n\u001b[1;32m----> 1\u001b[0m [i \u001b[38;5;28;01mfor\u001b[39;00m i \u001b[38;5;129;01min\u001b[39;00m splits \u001b[38;5;28;01mif\u001b[39;00m i \u001b[38;5;241m%\u001b[39m \u001b[38;5;241m2\u001b[39m \u001b[38;5;241m==\u001b[39m \u001b[38;5;241m0\u001b[39m ]\n",
      "\u001b[1;31mNameError\u001b[0m: name 'splits' is not defined"
     ]
    }
   ],
   "source": [
    "[i for i in splits if i % 2 == 0 ]"
   ]
  },
  {
   "cell_type": "markdown",
   "metadata": {},
   "source": [
    "## 7.Write a program that prints each item and its corresponding type"
   ]
  },
  {
   "cell_type": "code",
   "execution_count": 5,
   "metadata": {},
   "outputs": [
    {
     "name": "stdout",
     "output_type": "stream",
     "text": [
      "325: <class 'tuple'>\n",
      "235: <class 'tuple'>\n",
      "5: <class 'tuple'>\n",
      "2: <class 'tuple'>\n"
     ]
    }
   ],
   "source": [
    "\n",
    "item = (325,235,5,2)\n",
    "for i in item:\n",
    "    itemType = type (item )\n",
    "    print (f\"{i}: {itemType}\")\n",
    "\n"
   ]
  },
  {
   "cell_type": "markdown",
   "metadata": {},
   "source": [
    "##### 8.Write a program code to construct the following loop\n",
    "5 4 3 2 1\n",
    "\n",
    "4 3 2 1\n",
    "\n",
    "3 2 1\n",
    "\n",
    "2 1\n",
    "\n",
    "1"
   ]
  },
  {
   "cell_type": "code",
   "execution_count": 36,
   "metadata": {},
   "outputs": [
    {
     "name": "stdout",
     "output_type": "stream",
     "text": [
      "5 4 3 2 1 \n",
      "4 3 2 1 \n",
      "3 2 1 \n",
      "2 1 \n",
      "1 \n"
     ]
    }
   ],
   "source": [
    "rows = 5\n",
    "\n",
    "for i in range (rows, 0, - 1):\n",
    "    for j in range (i, 0 , -1):\n",
    "        print (j , end = \" \" )\n",
    "    print()\n",
    "    \n",
    "    "
   ]
  },
  {
   "cell_type": "markdown",
   "metadata": {},
   "source": [
    "##### 9. Write a pogram code construct the following loop\n",
    "\n",
    "1\n",
    "\n",
    "2  2\n",
    "\n",
    "3   3    3\n",
    "\n",
    "4    4    4   4\n",
    "\n",
    "5    5    5   5   5"
   ]
  },
  {
   "cell_type": "code",
   "execution_count": 43,
   "metadata": {},
   "outputs": [
    {
     "name": "stdout",
     "output_type": "stream",
     "text": [
      "1 \n",
      "2 2 \n",
      "3 3 3 \n",
      "4 4 4 4 \n",
      "5 5 5 5 5 \n"
     ]
    }
   ],
   "source": [
    "rows = 5\n",
    "\n",
    "for i in range (1 , rows + 1):\n",
    "    for j in range (1 , i + 1):\n",
    "        print (i , end = \" \")\n",
    "    print()"
   ]
  },
  {
   "cell_type": "markdown",
   "metadata": {},
   "source": [
    "##### 10.Write a program to find the sum of first n natural numbers using a while loop."
   ]
  },
  {
   "cell_type": "code",
   "execution_count": 5,
   "metadata": {},
   "outputs": [
    {
     "name": "stdout",
     "output_type": "stream",
     "text": [
      "Enter The Values : 5\n",
      "15\n"
     ]
    }
   ],
   "source": [
    "inp = int ( input (\"Enter The Values : \"))\n",
    "\n",
    "\n",
    "sumofNum = 0 \n",
    "i = 1\n",
    "while i <= inp :\n",
    "    sumofNum += i\n",
    "    i += 1\n",
    "    \n",
    "print (sumofNum)\n",
    "    \n",
    "    "
   ]
  },
  {
   "cell_type": "markdown",
   "metadata": {},
   "source": [
    "##### 11. Write a program to print the multiplication table of n using for loop in reversed order."
   ]
  },
  {
   "cell_type": "code",
   "execution_count": 10,
   "metadata": {},
   "outputs": [
    {
     "name": "stdout",
     "output_type": "stream",
     "text": [
      "Enter A Value 5\n",
      "Enter The Limit5\n",
      "5 x 5 = 25\n"
     ]
    }
   ],
   "source": [
    "num = int(input(\"Enter A Value \"))\n",
    "limit = int(input(\"Enter The Limit\"))\n",
    "\n",
    "for i in range(1, limit + 1):\n",
    "    \n",
    "    result: int = num * i\n",
    "        \n",
    "    print(i, \"x\", num , \"=\" ,  result)\n"
   ]
  },
  {
   "cell_type": "markdown",
   "metadata": {},
   "source": [
    "# <span style = \"color:coral\"> Great Job!</span>"
   ]
  },
  {
   "cell_type": "code",
   "execution_count": null,
   "metadata": {},
   "outputs": [],
   "source": []
  },
  {
   "cell_type": "markdown",
   "metadata": {},
   "source": [
    "***"
   ]
  },
  {
   "cell_type": "markdown",
   "metadata": {},
   "source": [
    "# <center><a href = \"http://edure.in/\"><span style = \"color:CornflowerBlue; font-family:Courier New;font-size:40px\">EDURE LEARNING</span></a></center>"
   ]
  }
 ],
 "metadata": {
  "kernelspec": {
   "display_name": "Python 3 (ipykernel)",
   "language": "python",
   "name": "python3"
  },
  "language_info": {
   "codemirror_mode": {
    "name": "ipython",
    "version": 3
   },
   "file_extension": ".py",
   "mimetype": "text/x-python",
   "name": "python",
   "nbconvert_exporter": "python",
   "pygments_lexer": "ipython3",
   "version": "3.11.3"
  }
 },
 "nbformat": 4,
 "nbformat_minor": 4
}
