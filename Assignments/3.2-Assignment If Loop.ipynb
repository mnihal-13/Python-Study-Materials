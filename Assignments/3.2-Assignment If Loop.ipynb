{
 "cells": [
  {
   "cell_type": "markdown",
   "metadata": {},
   "source": [
    "##### 1.Write the syntax of simple if statement."
   ]
  },
  {
   "cell_type": "code",
   "execution_count": 1,
   "metadata": {},
   "outputs": [
    {
     "name": "stdout",
     "output_type": "stream",
     "text": [
      "True\n"
     ]
    }
   ],
   "source": [
    "if 1<2:\n",
    "    print('True')\n",
    "else:\n",
    "    print('False')"
   ]
  },
  {
   "cell_type": "markdown",
   "metadata": {},
   "source": [
    "##### 2.Write a program to check whether a given number is even or not"
   ]
  },
  {
   "cell_type": "code",
   "execution_count": 5,
   "metadata": {},
   "outputs": [
    {
     "name": "stdout",
     "output_type": "stream",
     "text": [
      "Its Not an Even Number\n"
     ]
    }
   ],
   "source": [
    "a = 5\n",
    "if a % 2 == 0:\n",
    "    print (\"Its Even Number\")\n",
    "else:\n",
    "    print (\"Its Not an Even Number\")"
   ]
  },
  {
   "cell_type": "markdown",
   "metadata": {},
   "source": [
    "##### 3.Write a program to check whether a number is vowel or consonant"
   ]
  },
  {
   "cell_type": "code",
   "execution_count": 3,
   "metadata": {},
   "outputs": [
    {
     "name": "stdout",
     "output_type": "stream",
     "text": [
      "Enter A Word : A\n",
      "Its A Consonant\n"
     ]
    }
   ],
   "source": [
    "inp = input (\"Enter A Word : \")\n",
    "\n",
    "if inp in ('a','e','i','o','u'):\n",
    "    print (\"Its A Vovel\")\n",
    "else :\n",
    "    print (\"Its A Consonant\")\n",
    "    "
   ]
  },
  {
   "cell_type": "markdown",
   "metadata": {},
   "source": [
    "##### 4.Find the greatest of three numbers"
   ]
  },
  {
   "cell_type": "code",
   "execution_count": 2,
   "metadata": {},
   "outputs": [
    {
     "name": "stdout",
     "output_type": "stream",
     "text": [
      "sf\n"
     ]
    },
    {
     "data": {
      "text/plain": [
       "'sf'"
      ]
     },
     "execution_count": 2,
     "metadata": {},
     "output_type": "execute_result"
    }
   ],
   "source": [
    "input()"
   ]
  },
  {
   "cell_type": "code",
   "execution_count": 1,
   "metadata": {},
   "outputs": [
    {
     "name": "stdout",
     "output_type": "stream",
     "text": [
      "Enter a Value : 2\n",
      "Enter a Value : 3\n",
      "Enter a Value : 4\n",
      "Greatest Value Is :  4\n"
     ]
    }
   ],
   "source": [
    "#method 1\n",
    "num1 = int (input (\"Enter a Value : \"))\n",
    "num2 = int (input (\"Enter a Value : \")) \n",
    "num3 = int (input (\"Enter a Value : \"))\n",
    "\n",
    "if num1 >= num2 and num1 >= num3:\n",
    "    great = num1\n",
    "elif num2 >= num1 and num2 >= num3:\n",
    "        great = num2\n",
    "else :\n",
    "    great = num3\n",
    "\n",
    "print (\"Greatest Value Is : \",great)"
   ]
  },
  {
   "cell_type": "code",
   "execution_count": 2,
   "metadata": {
    "scrolled": true
   },
   "outputs": [
    {
     "name": "stdout",
     "output_type": "stream",
     "text": [
      "Enter a value 12\n",
      "Enter a value 44\n",
      "Enter a value 22\n",
      "44 Is The Greatest\n"
     ]
    }
   ],
   "source": [
    "#method 2\n",
    "n1 = int (input ('Enter a value '))\n",
    "n2 = int (input ('Enter a value '))\n",
    "n3 = int (input ('Enter a value '))\n",
    "\n",
    "print (max (n1,n2,n3), \"Is The Greatest\")"
   ]
  },
  {
   "cell_type": "markdown",
   "metadata": {},
   "source": [
    "##### 5. A company decied to give bonus of 5% to employyes if his/ her year of service is more than 5 years. Write a program to calculate the bonus salary of an employee"
   ]
  },
  {
   "cell_type": "code",
   "execution_count": 4,
   "metadata": {},
   "outputs": [
    {
     "name": "stdout",
     "output_type": "stream",
     "text": [
      "Enter Your Salary : 22222222\n",
      "Enter Your Experience : 3\n",
      "Sorry You Did Not Have Minumum Experience\n"
     ]
    }
   ],
   "source": [
    "salary = float (input ('Enter Your Salary : '))\n",
    "year = int (input ('Enter Your Experience : '))\n",
    "\n",
    "if year > 5 :\n",
    "    bonus = (5/100) * salary\n",
    "    print (\"You Have Bonus Salary of : \",bonus )\n",
    "else :\n",
    "    print (\"Sorry,You Did Not Have Minumum Experience!!!\")\n",
    "    \n",
    "    "
   ]
  },
  {
   "cell_type": "markdown",
   "metadata": {},
   "source": [
    "##### A school has following grading system\n",
    " * Above 80 -Excellent\n",
    " * 60 TO 80 - Good\n",
    " * 50 TO 60 - Average\n",
    " * 35 TO 50 - Below Average\n",
    " * Below 35 - Failed\n",
    " \n",
    "Create a program to know the grade of a student"
   ]
  },
  {
   "cell_type": "code",
   "execution_count": 3,
   "metadata": {},
   "outputs": [
    {
     "name": "stdout",
     "output_type": "stream",
     "text": [
      "Enter Your Mark : 55\n",
      "Average\n"
     ]
    }
   ],
   "source": [
    "mark = int( input (\"Enter Your Mark : \") )\n",
    "if mark>=80:\n",
    "    print('Excllent')\n",
    "elif mark >=60 and mark <80:\n",
    "    print ('Good')\n",
    "elif  50 < mark < 60:\n",
    "    print('Average')\n",
    "elif 35 < mark < 50:\n",
    "    print ('Below Average ')\n",
    "elif mark < 35:\n",
    "    print('Failed')"
   ]
  },
  {
   "cell_type": "markdown",
   "metadata": {},
   "source": [
    "**6 A student will not be allowed to sit in the exam if his/her attendance is below 75% but if she has any medical condition she will be allowed to write exam without checking the attendance**\n",
    "   > A) Take number of class in an academic year \n",
    "   <br> b) Take number of attended days by a student\n",
    "   <br> >c) Check any medical conditions"
   ]
  },
  {
   "cell_type": "code",
   "execution_count": 5,
   "metadata": {},
   "outputs": [
    {
     "name": "stdout",
     "output_type": "stream",
     "text": [
      "Enter The Total Number Of Classes Throughout The Academic Year : 99\n",
      "Enter The Number of Classes You Attended : 33\n"
     ]
    }
   ],
   "source": [
    "numClass = int (input (\"Enter The Total Number Of Classes Throughout The Academic Year : \"))\n",
    "attend = int (input (\"Enter The Number of Classes You Attended : \"))\n",
    "\n",
    "              \n",
    "perc = ((numClass / attend)*100)\n",
    "\n",
    "if perc < 75 :\n",
    "    med = input (\"You Have Any Medical Conditions?\\n(Yes/No)/n\")    \n",
    "    if med == \"Yes\":\n",
    "        print (\"You Are Allowed To Attend The Exam\")\n",
    "    else :\n",
    "        print (\"You Not Able To Attend The Exam\")\n",
    "else :\n",
    "    (\"You Are Allowed To Attend The Exam\")"
   ]
  },
  {
   "cell_type": "markdown",
   "metadata": {},
   "source": [
    "##### 7. Write a Program to convert Weight in Kilogram to Lbs or Weight in Lbs to Kilogram "
   ]
  },
  {
   "cell_type": "code",
   "execution_count": 2,
   "metadata": {},
   "outputs": [
    {
     "name": "stdout",
     "output_type": "stream",
     "text": [
      "1.Kilogram To Lbs\n",
      "2.Lbs to Kilogram\n",
      " 1\n",
      "Enter The Weight in Kg55\n",
      "55.0  Kilogram is  121.2541 Lbs\n"
     ]
    }
   ],
   "source": [
    "inp = input (\"1.Kilogram To Lbs\\n2.Lbs to Kilogram\\n \")\n",
    "if inp == '1':\n",
    "    kg = float (input (\"Enter The Weight in Kg\"))\n",
    "    convrt = kg * 2.20462\n",
    "    print (kg ,\" Kilogram is \",convrt, \"Lbs\")\n",
    "elif inp == '2':\n",
    "    lbs = float (input (\"Enter The Weight  in Lbs\"))\n",
    "    conv = lbs / 2.20462\n",
    "    print (lbs ,\"Lbs is \",conv, \"Kg\")\n",
    "else : \n",
    "    print (\"Invalid Syntax\")"
   ]
  },
  {
   "cell_type": "markdown",
   "metadata": {},
   "source": [
    "##### 8. A spam comment is defined as a text containing the following keywords:\n",
    "\n",
    "    “make a lot of money”, “buy now”, “subscribe this”, “click this”.\n",
    "   **Write a program to detect these spams.**"
   ]
  },
  {
   "cell_type": "code",
   "execution_count": 11,
   "metadata": {},
   "outputs": [],
   "source": [
    "\n",
    "\n",
    "inp = ['dfhdg']\n",
    "\n",
    "if 'make a lot of money' in inp:\n",
    "     print ('Scam Detected')\n",
    "if 'buy now ' in inp :\n",
    "    print ('Scam Detected')\n",
    "if 'subscribe this ' in inp:\n",
    "     print ('Scam Detected')\n",
    "if 'click this ' in inp:\n",
    "    print ('Scam Detected')\n",
    "    \n",
    "else :\n",
    "    ('No scam Comments')"
   ]
  },
  {
   "cell_type": "code",
   "execution_count": 2,
   "metadata": {},
   "outputs": [
    {
     "name": "stdout",
     "output_type": "stream",
     "text": [
      "Spam detected in text1\n",
      "No spam detected in text2\n",
      "No spam detected in text3\n"
     ]
    }
   ],
   "source": [
    "spam_keywords = [\"make a lot of money\", \"buy now\", \"subscribe this\", \"click this\"]\n",
    "\n",
    "def is_spam(text):\n",
    "    for keyword in spam_keywords:\n",
    "        if keyword in text:\n",
    "            return True\n",
    "    return False\n",
    "\n",
    "# Test cases\n",
    "text1 = \"Want to make a lot of money? Click this link!\"\n",
    "text2 = \"Check out our latest products. Buy now and subscribe!\"\n",
    "text3 = \"This is a legitimate message.\"\n",
    "\n",
    "if is_spam(text1):\n",
    "    print(\"Spam detected in text1\")\n",
    "else:\n",
    "    print(\"No spam detected in text1\")\n",
    "\n",
    "if is_spam(text2):\n",
    "    print(\"Spam detected in text2\")\n",
    "else:\n",
    "    print(\"No spam detected in text2\")\n",
    "\n",
    "if is_spam(text3):\n",
    "    print(\"Spam detected in text3\")\n",
    "else:\n",
    "    print(\"No spam detected in text3\")\n"
   ]
  },
  {
   "cell_type": "markdown",
   "metadata": {},
   "source": [
    "##### 9.Write a program that finds out whether a given name is present in a list or not."
   ]
  },
  {
   "cell_type": "code",
   "execution_count": 10,
   "metadata": {},
   "outputs": [
    {
     "name": "stdout",
     "output_type": "stream",
     "text": [
      "Enter The Name ee\n",
      "ee is present in the list \n"
     ]
    }
   ],
   "source": [
    "def check (name,namelist):\n",
    "    small = [n.lower() for n in namelist]\n",
    "    if name.lower() in small:\n",
    "        return True \n",
    "    else :\n",
    "        return False\n",
    "    \n",
    "names = ['Aa','bb','cc','dd','EE']\n",
    "\n",
    "inp = input (\"Enter The Name \")\n",
    "\n",
    "if check (inp,names):\n",
    "    print (f\"{inp } is present in the list \")\n",
    "else :\n",
    "    print (f\"{inp} is not in the list \")"
   ]
  },
  {
   "cell_type": "markdown",
   "metadata": {},
   "source": [
    "##### 10. Write a program to check whether a person is senior citizen or not."
   ]
  },
  {
   "cell_type": "code",
   "execution_count": 16,
   "metadata": {},
   "outputs": [
    {
     "name": "stdout",
     "output_type": "stream",
     "text": [
      "Enter Your Name dd\n",
      "What's About Your Nationality ?\n",
      "(Ind/Oth) oth\n",
      "Your Not an Indian Citizen\n"
     ]
    }
   ],
   "source": [
    "name = input (\"Enter Your Name \")\n",
    "nationality = input (\"What's About Your Nationality ?\\n(Ind/Oth) \")\n",
    "if nationality == \"Ind\"  or nationality == \"ind\":\n",
    "    age = int (input (\"Enter Your Age \"))\n",
    "    if age > 66:\n",
    "        print (\"You Are a senior citizen\")\n",
    "    else:\n",
    "        print (\"You are Not a senior citizen\")\n",
    "else:\n",
    "    print (\"Your Not an Indian Citizen\")\n",
    "    \n"
   ]
  },
  {
   "cell_type": "markdown",
   "metadata": {},
   "source": [
    "##### 11. Write a program to check whether a number (accepted from user) is positive or negative."
   ]
  },
  {
   "cell_type": "code",
   "execution_count": 5,
   "metadata": {},
   "outputs": [
    {
     "name": "stdout",
     "output_type": "stream",
     "text": [
      "Enter A Value : -1\n",
      "You Entered Negative Value \n"
     ]
    }
   ],
   "source": [
    "user = int (input (\"Enter A Value : \"))\n",
    "if user < 0 :\n",
    "    print (\"You Entered Negative Value \")\n",
    "else :\n",
    "    print (\"You Entered Positive Value \")"
   ]
  },
  {
   "cell_type": "markdown",
   "metadata": {},
   "source": [
    "# <span style = \"color:coral\"> Well Done!</span>"
   ]
  },
  {
   "cell_type": "markdown",
   "metadata": {},
   "source": [
    "***"
   ]
  },
  {
   "cell_type": "markdown",
   "metadata": {},
   "source": [
    "# <center><a href = \"http://edure.in/\"><span style = \"color:CornflowerBlue; font-family:Courier New;font-size:40px\">EDURE LEARNING</span></a></center>"
   ]
  }
 ],
 "metadata": {
  "kernelspec": {
   "display_name": "Python 3 (ipykernel)",
   "language": "python",
   "name": "python3"
  },
  "language_info": {
   "codemirror_mode": {
    "name": "ipython",
    "version": 3
   },
   "file_extension": ".py",
   "mimetype": "text/x-python",
   "name": "python",
   "nbconvert_exporter": "python",
   "pygments_lexer": "ipython3",
   "version": "3.11.3"
  }
 },
 "nbformat": 4,
 "nbformat_minor": 4
}
