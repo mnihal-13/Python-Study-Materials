{
 "cells": [
  {
   "cell_type": "markdown",
   "metadata": {},
   "source": [
    "## ASSIGNMENT FUNCTION\n"
   ]
  },
  {
   "cell_type": "markdown",
   "metadata": {},
   "source": [
    "1) wrtie a program to find the fibonacii series using function"
   ]
  },
  {
   "cell_type": "code",
   "execution_count": 10,
   "metadata": {},
   "outputs": [],
   "source": [
    "def fibb (inp):\n",
    "    n1 = 0\n",
    "    n2 = 1\n",
    "    while n2 < inp:\n",
    "        print(n2)\n",
    "        n1,n2=n2,n1+n2"
   ]
  },
  {
   "cell_type": "code",
   "execution_count": 11,
   "metadata": {},
   "outputs": [
    {
     "name": "stdout",
     "output_type": "stream",
     "text": [
      "1\n",
      "1\n",
      "2\n",
      "3\n",
      "5\n",
      "8\n",
      "13\n",
      "21\n",
      "34\n"
     ]
    }
   ],
   "source": [
    "fibb (50)"
   ]
  },
  {
   "cell_type": "code",
   "execution_count": 3,
   "metadata": {},
   "outputs": [
    {
     "name": "stdout",
     "output_type": "stream",
     "text": [
      "1\n",
      "1\n",
      "2\n",
      "3\n",
      "5\n",
      "8\n",
      "13\n",
      "21\n",
      "34\n"
     ]
    }
   ],
   "source": [
    "fibb (50)"
   ]
  },
  {
   "cell_type": "code",
   "execution_count": null,
   "metadata": {},
   "outputs": [],
   "source": []
  },
  {
   "cell_type": "markdown",
   "metadata": {},
   "source": [
    "2) find the factorial of a number"
   ]
  },
  {
   "cell_type": "code",
   "execution_count": 3,
   "metadata": {},
   "outputs": [],
   "source": [
    "def factorial (inp):\n",
    "    fac = 1\n",
    "    for i in range (2,inp + 1):\n",
    "        fac *= i\n",
    "    return fac"
   ]
  },
  {
   "cell_type": "code",
   "execution_count": 4,
   "metadata": {},
   "outputs": [
    {
     "data": {
      "text/plain": [
       "120"
      ]
     },
     "execution_count": 4,
     "metadata": {},
     "output_type": "execute_result"
    }
   ],
   "source": [
    "factorial (5)"
   ]
  },
  {
   "cell_type": "code",
   "execution_count": null,
   "metadata": {},
   "outputs": [],
   "source": []
  },
  {
   "cell_type": "markdown",
   "metadata": {},
   "source": [
    "3) print the prime numbers within a range"
   ]
  },
  {
   "cell_type": "code",
   "execution_count": 17,
   "metadata": {},
   "outputs": [
    {
     "name": "stdout",
     "output_type": "stream",
     "text": [
      "Enter the starting number : 1\n",
      "Enter the ending number :  10\n",
      "Prime Numbers From 1 to 10 are :\n",
      "2 3 5 7 "
     ]
    }
   ],
   "source": [
    "def prime (inp):\n",
    "    if inp <=1:\n",
    "        return False\n",
    "    if inp <=3:\n",
    "        return True\n",
    "    if inp % 2 == 0 or inp % 3 == 0:\n",
    "        return False\n",
    "    i = 5\n",
    "    while i * i <= inp:\n",
    "        if inp % i == 0 or inp % (i+2) == 0:\n",
    "            return False \n",
    "        i += 6\n",
    "    return True\n",
    "\n",
    "\n",
    "startRange = int (input (\"Enter the starting number : \"))\n",
    "endRange = int (input (\"Enter the ending number :  \"))\n",
    "\n",
    "print (f\"Prime Numbers From {startRange} to {endRange} are :\")\n",
    "\n",
    "for num in range (startRange ,endRange + 1):\n",
    "    if prime (num):\n",
    "        print (num,end = \" \")\n"
   ]
  },
  {
   "cell_type": "code",
   "execution_count": null,
   "metadata": {},
   "outputs": [],
   "source": []
  },
  {
   "cell_type": "markdown",
   "metadata": {},
   "source": [
    "4) Palindrome check using slicing"
   ]
  },
  {
   "cell_type": "code",
   "execution_count": null,
   "metadata": {},
   "outputs": [],
   "source": [
    "def palindrome(inp):\n",
    "    inp = inp.lower().replace (\" \",\"\")\n",
    "    return inp == inp[::-1]\n",
    "\n",
    "inpp = input (\"Enter the string to check : \")\n",
    "\n",
    "if palindrome (inpp):\n",
    "    print (f\" '{inpp}' is a Palindrome \")\n",
    "else :\n",
    "    print (f\"'{inpp}' Not a palindrome \")"
   ]
  },
  {
   "cell_type": "code",
   "execution_count": null,
   "metadata": {},
   "outputs": [],
   "source": []
  },
  {
   "cell_type": "markdown",
   "metadata": {},
   "source": [
    "5) find the occurrence of a character in a given string."
   ]
  },
  {
   "cell_type": "code",
   "execution_count": 1,
   "metadata": {},
   "outputs": [
    {
     "name": "stdout",
     "output_type": "stream",
     "text": [
      "Enter a string: nihal\n",
      "Enter a character: n\n",
      "The character 'n' appears 1 times in the string.\n"
     ]
    }
   ],
   "source": [
    "def count_occurrences(text, char):\n",
    "    count = 0\n",
    "    for c in text:\n",
    "        if c == char:\n",
    "            count += 1\n",
    "    return count\n",
    "\n",
    "# Input string and character\n",
    "input_string = input(\"Enter a string: \")\n",
    "input_char = input(\"Enter a character: \")\n",
    "\n",
    "occurrence_count = count_occurrences(input_string, input_char)\n",
    "print(f\"The character '{input_char}' appears {occurrence_count} times in the string.\")\n"
   ]
  },
  {
   "cell_type": "code",
   "execution_count": 11,
   "metadata": {},
   "outputs": [
    {
     "name": "stdout",
     "output_type": "stream",
     "text": [
      "Enter The Word\n",
      "mnbvcmnbvcmnbvc\n",
      "Enter The Character To Check: n\n",
      "The Character n appears 3 times in the string\n"
     ]
    }
   ],
   "source": [
    "def occurrance (inp,num):\n",
    "    count = 0 \n",
    "    for i in inp:\n",
    "        if i == num :\n",
    "            count +=1\n",
    "    return count \n",
    "    \n",
    "inp = input (\"Enter The Word\\n\")\n",
    "char = input (\"Enter The Character To Check: \")\n",
    "\n",
    "Occ_count = occurrance (inp , char)\n",
    "print (f\"The Character {char} appears {Occ_count} times in the string\")"
   ]
  },
  {
   "cell_type": "code",
   "execution_count": null,
   "metadata": {},
   "outputs": [],
   "source": []
  },
  {
   "cell_type": "markdown",
   "metadata": {},
   "source": [
    "7)  find the armstrong numbers in an interval"
   ]
  },
  {
   "cell_type": "code",
   "execution_count": 18,
   "metadata": {},
   "outputs": [
    {
     "name": "stdout",
     "output_type": "stream",
     "text": [
      "Enter start of range: 1\n",
      "Enter end of range: 10000\n",
      "Armstrong numbers between 1 and 10000:\n",
      "1 2 3 4 5 6 7 8 9 153 370 371 407 1634 8208 9474 "
     ]
    }
   ],
   "source": [
    "def is_armstrong_number(num):\n",
    "    num_str = str(num)\n",
    "    num_digits = len(num_str)\n",
    "    total = sum(int(digit)**num_digits for digit in num_str)\n",
    "    return num == total\n",
    "\n",
    "def find_armstrong_numbers(start, end):\n",
    "    print(f\"Armstrong numbers between {start} and {end}:\")\n",
    "    for num in range(start, end + 1):\n",
    "        if is_armstrong_number(num):\n",
    "            print(num, end=\" \")\n",
    "                  \n",
    "                \n",
    "start_range = int(input(\"Enter start of range: \"))\n",
    "end_range = int(input(\"Enter end of range: \"))\n",
    "\n",
    "find_armstrong_numbers(start_range, end_range)\n"
   ]
  },
  {
   "cell_type": "markdown",
   "metadata": {},
   "source": [
    "***"
   ]
  }
 ],
 "metadata": {
  "kernelspec": {
   "display_name": "Python 3 (ipykernel)",
   "language": "python",
   "name": "python3"
  },
  "language_info": {
   "codemirror_mode": {
    "name": "ipython",
    "version": 3
   },
   "file_extension": ".py",
   "mimetype": "text/x-python",
   "name": "python",
   "nbconvert_exporter": "python",
   "pygments_lexer": "ipython3",
   "version": "3.11.7"
  }
 },
 "nbformat": 4,
 "nbformat_minor": 4
}
