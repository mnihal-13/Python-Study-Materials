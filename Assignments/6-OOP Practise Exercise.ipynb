{
 "cells": [
  {
   "cell_type": "markdown",
   "metadata": {},
   "source": [
    "**1. Create a class circle and initialise it with radius . Make two methods get_Area and get_circumference inside the class**"
   ]
  },
  {
   "cell_type": "code",
   "execution_count": null,
   "metadata": {},
   "outputs": [],
   "source": []
  },
  {
   "cell_type": "code",
   "execution_count": 5,
   "metadata": {},
   "outputs": [],
   "source": [
    "class Circle():\n",
    "    def __init__(self, radius):\n",
    "        self.radius = radius\n",
    "    def get_area(self):\n",
    "        return 3.14 * (self.radius ** 2)\n",
    "    def get_circumference(self):\n",
    "        return 2 * 3.14  * (self.radius)\n"
   ]
  },
  {
   "cell_type": "code",
   "execution_count": 10,
   "metadata": {},
   "outputs": [
    {
     "name": "stdout",
     "output_type": "stream",
     "text": [
      "Area =  78.5\n",
      "Circumference =  31.400000000000002\n"
     ]
    }
   ],
   "source": [
    "radius = 5\n",
    "circle = Circle(radius)\n",
    "print(\"Area = \",circle.get_area())\n",
    "print (\"Circumference = \",circle.get_circumference())"
   ]
  },
  {
   "cell_type": "markdown",
   "metadata": {},
   "source": [
    "**2.Create a class to find area and perimeter of triangle**"
   ]
  },
  {
   "cell_type": "code",
   "execution_count": 13,
   "metadata": {},
   "outputs": [],
   "source": [
    "class Triangle:\n",
    "    def __init__(self,side1,side2,side3):\n",
    "        self.side1 = side1\n",
    "        self.side2 = side2\n",
    "        self.side3 = side3\n",
    "    def perimeter(self):\n",
    "        perimeter = self.side1 + self.side2 + self.side3\n",
    "        return perimeter\n",
    "    def area(self):\n",
    "        per = self.perimeter() / 2\n",
    "        area = (per * (per - self.side1) * (per - self.side2) * (per - self.side3)) ** 0.5\n",
    "        return area\n",
    "\n"
   ]
  },
  {
   "cell_type": "code",
   "execution_count": 16,
   "metadata": {},
   "outputs": [
    {
     "name": "stdout",
     "output_type": "stream",
     "text": [
      "Perimeter of the Triangle =  15\n",
      "Area of the Triangle =  10.825317547305483\n"
     ]
    }
   ],
   "source": [
    "side1 = 5\n",
    "side2 = 5\n",
    "side3 = 5\n",
    "\n",
    "tria = Triangle(side1,side2,side3)\n",
    "print(\"Perimeter of the Triangle = \",tria.perimeter())\n",
    "print(\"Area of the Triangle = \",tria.area())"
   ]
  },
  {
   "cell_type": "markdown",
   "metadata": {},
   "source": [
    "**3.Create a Temprature class. Make two methods :**\n",
    "1. convertFahrenheit - It will take celsius and will print it into Fahrenheit.\n",
    "2. convertCelsius - It will take Fahrenheit and will convert it into Celsius"
   ]
  },
  {
   "cell_type": "code",
   "execution_count": 5,
   "metadata": {},
   "outputs": [],
   "source": [
    "class Temperature:\n",
    "    def convert_fahrenheit(self,celcius):\n",
    "        fahrenheit = (celcius * 9/5) + 32\n",
    "        print(f\"{celcius} degree C is {fahrenheit} degree F\")\n",
    "    def convert_celcius(self,fahrenheit):\n",
    "        celcius = (fahrenheit - 32) * 5/9\n",
    "        print(f\"{fahrenheit} degree F is {celcius} degree C\")\n",
    "    "
   ]
  },
  {
   "cell_type": "code",
   "execution_count": 6,
   "metadata": {},
   "outputs": [
    {
     "name": "stdout",
     "output_type": "stream",
     "text": [
      "30 degree C is 86.0 degree F\n",
      "86 degree F is 30.0 degree C\n"
     ]
    }
   ],
   "source": [
    "temp = Temperature()\n",
    "temp.convert_fahrenheit(30)\n",
    "temp.convert_celcius(86)"
   ]
  },
  {
   "cell_type": "markdown",
   "metadata": {},
   "source": [
    "##### 4.Create a student class and initialize it with and roll number.Make methods to \n",
    "  * It should display all information of student\n",
    "  * It should assign age to student\n",
    "  * it should assign marks to the student"
   ]
  },
  {
   "cell_type": "code",
   "execution_count": 19,
   "metadata": {},
   "outputs": [],
   "source": [
    "class Student:\n",
    "    def __init__(self,RollNumber):\n",
    "        self.RollNumber = RollNumber\n",
    "        self.name = None\n",
    "        self.age = None\n",
    "        self.marks = None\n",
    "        \n",
    "    def info (self):\n",
    "        if self.name is not None:\n",
    "            print(\"Roll Number: \",self.RollNumber)\n",
    "            print(\"Name: \",self.name)\n",
    "            if self.age is not None:\n",
    "                print(f\"Age: {self.age}\")\n",
    "            if self.marks is not None:\n",
    "                print(f\"Mark: {self.marks}\")\n",
    "        else:\n",
    "            print(\"Student information is not completed\")\n",
    "            \n",
    "    def age(self,age):\n",
    "        self.age = age\n",
    "    \n",
    "    def mark(self,mark):\n",
    "        self.marks = marks"
   ]
  },
  {
   "cell_type": "code",
   "execution_count": 22,
   "metadata": {},
   "outputs": [
    {
     "name": "stdout",
     "output_type": "stream",
     "text": [
      "Roll Number:  13\n",
      "Name:  Nihal\n",
      "Age: 22\n",
      "Mark:100\n"
     ]
    }
   ],
   "source": [
    "a = Student(13)\n",
    "a.name = \"Nihal\"\n",
    "a.age = 22\n",
    "a.marks = 100\n",
    "a.info()"
   ]
  },
  {
   "cell_type": "code",
   "execution_count": null,
   "metadata": {},
   "outputs": [],
   "source": []
  },
  {
   "cell_type": "code",
   "execution_count": null,
   "metadata": {},
   "outputs": [],
   "source": []
  },
  {
   "cell_type": "markdown",
   "metadata": {},
   "source": [
    "##### 5. Create a Time class and initialize it with hours and minutes\n",
    "  * Make a method add time which should take time object and add them\n",
    "       \n",
    "       Eg:- (2hr and 50 min)+(1 hr and 20 min) is (4hr 10min)\n",
    "  * Make a method display which should print the time\n",
    "  * Make a method Display minute which should display minutes in the time\n",
    "  \n",
    "      Eg:- 1 hr 2 min should display 62 min"
   ]
  },
  {
   "cell_type": "code",
   "execution_count": null,
   "metadata": {},
   "outputs": [],
   "source": [
    "class Time:\n",
    "    "
   ]
  },
  {
   "cell_type": "markdown",
   "metadata": {},
   "source": [
    "##### 6. Convert minutes to seconds\n"
   ]
  },
  {
   "cell_type": "code",
   "execution_count": null,
   "metadata": {},
   "outputs": [],
   "source": []
  },
  {
   "cell_type": "markdown",
   "metadata": {},
   "source": [
    "##### 7. Fill in the Line class methods to accept coordinates as a pair of tuples and return the slope and distance of the line."
   ]
  },
  {
   "cell_type": "code",
   "execution_count": null,
   "metadata": {},
   "outputs": [],
   "source": []
  },
  {
   "cell_type": "code",
   "execution_count": null,
   "metadata": {},
   "outputs": [],
   "source": [
    "coordinate1 = (5,2)\n",
    "coordinate2 = (8,10)\n",
    "\n",
    "li = Line(coordinate1,coordinate2)"
   ]
  },
  {
   "cell_type": "code",
   "execution_count": null,
   "metadata": {},
   "outputs": [],
   "source": [
    "li.distance()"
   ]
  },
  {
   "cell_type": "code",
   "execution_count": null,
   "metadata": {},
   "outputs": [],
   "source": [
    "li.slope()"
   ]
  },
  {
   "cell_type": "markdown",
   "metadata": {},
   "source": [
    "##### 8. Find the volume and surface area of a cylinder using class methods"
   ]
  },
  {
   "cell_type": "code",
   "execution_count": null,
   "metadata": {},
   "outputs": [],
   "source": []
  },
  {
   "cell_type": "code",
   "execution_count": null,
   "metadata": {},
   "outputs": [],
   "source": [
    "c = Cylinder(2,3)"
   ]
  },
  {
   "cell_type": "code",
   "execution_count": null,
   "metadata": {},
   "outputs": [],
   "source": [
    "c.volume()"
   ]
  },
  {
   "cell_type": "code",
   "execution_count": null,
   "metadata": {},
   "outputs": [],
   "source": [
    "c.surface_area()"
   ]
  },
  {
   "cell_type": "markdown",
   "metadata": {},
   "source": [
    "***"
   ]
  },
  {
   "cell_type": "markdown",
   "metadata": {},
   "source": [
    "# <span style = \"color:coral\"> Great Job! </span>"
   ]
  }
 ],
 "metadata": {
  "kernelspec": {
   "display_name": "Python 3 (ipykernel)",
   "language": "python",
   "name": "python3"
  },
  "language_info": {
   "codemirror_mode": {
    "name": "ipython",
    "version": 3
   },
   "file_extension": ".py",
   "mimetype": "text/x-python",
   "name": "python",
   "nbconvert_exporter": "python",
   "pygments_lexer": "ipython3",
   "version": "3.11.7"
  }
 },
 "nbformat": 4,
 "nbformat_minor": 4
}
