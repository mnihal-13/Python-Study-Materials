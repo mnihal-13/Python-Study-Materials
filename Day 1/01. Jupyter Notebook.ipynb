{
 "cells": [
  {
   "cell_type": "markdown",
   "id": "7f726986",
   "metadata": {},
   "source": [
    "# <span style = \"color:coral\"> Jupyter Notebook</span> "
   ]
  },
  {
   "cell_type": "markdown",
   "id": "86b3fe03",
   "metadata": {},
   "source": [
    "***"
   ]
  },
  {
   "cell_type": "markdown",
   "id": "4ffa1e0d",
   "metadata": {},
   "source": [
    "The Jupyter Notebook is an incredibly powerful tool for interactively developing and presenting data science projects. This notebook will walk you through how to use Jupyter Notebooks for data science projects and how to set it up on your local machine."
   ]
  },
  {
   "cell_type": "markdown",
   "id": "70976b80",
   "metadata": {},
   "source": [
    "First, though: what is a <b>“notebook”</b>?\n",
    "\n",
    "A notebook integrates code and its output into a single document that combines visualizations, narrative text, mathematical equations, and other rich media. In other words: it’s a single document where you can run code, display the output, and also add explanations, formulas, charts, and make your work more transparent, understandable, repeatable, and shareable.\n",
    "\n",
    "Using Notebooks is now a major part of the data science workflow at companies across the globe. If your goal is to work with data, using a Notebook will speed up your workflow and make it easier to communicate and share your results.\n",
    "\n",
    "Best of all, as part of the open source Project Jupyter, Jupyter Notebooks are completely free. You can download the software on its own, or as part of the Anaconda data science toolkit.\n",
    "\n",
    "Although it is possible to use many different programming languages in Jupyter Notebooks, this article will focus on Python, as it is the most common use case. (Among R users, R Studio tends to be a more popular choice)."
   ]
  },
  {
   "cell_type": "markdown",
   "id": "a5380a1a",
   "metadata": {},
   "source": [
    "***"
   ]
  },
  {
   "cell_type": "markdown",
   "id": "f292d02f",
   "metadata": {},
   "source": [
    "### What is an .ipynb file?"
   ]
  },
  {
   "cell_type": "markdown",
   "id": "c8d7f7ad",
   "metadata": {},
   "source": [
    "The short answer: each .ipynb file is one notebook, so each time you create a new notebook, a new  .ipynb file will be created.\n",
    "\n",
    "The longer answer: Each .ipynb file is a text file that describes the contents of your notebook in a format called JSON. Each cell and its contents, including image attachments that have been converted into strings of text, is listed therein along with some metadata.\n",
    "\n",
    "You can edit this yourself — if you know what you are doing! — by selecting “Edit > Edit Notebook Metadata” from the menu bar in the notebook. You can also view the contents of your notebook files by selecting “Edit” from the controls on the dashboard\n",
    "\n",
    "However, the key word there is can. In most cases, there’s no reason you should ever need to edit your notebook metadata manually."
   ]
  },
  {
   "cell_type": "markdown",
   "id": "bcf9e698",
   "metadata": {},
   "source": [
    "### Cells"
   ]
  },
  {
   "cell_type": "markdown",
   "id": "7414ac9a",
   "metadata": {},
   "source": [
    "We’ll return to kernels a little later, but first let’s come to grips with cells. Cells form the body of a notebook. In the screenshot of a new notebook in the section above, that box with the green outline is an empty cell. There are two main cell types that we will cover:\n",
    "\n",
    "A code cell contains code to be executed in the kernel. When the code is run, the notebook displays the output below the code cell that generated it.\n",
    "A Markdown cell contains text formatted using Markdown and displays its output in-place when the Markdown cell is run.\n",
    "The first cell in a new notebook is always a code cell.\n",
    "\n",
    "Let’s test it out with a classic hello world example: Type print('Hello World!') into the cell and click the run button Notebook Run Button in the toolbar above or press Ctrl + Enter."
   ]
  },
  {
   "cell_type": "code",
   "execution_count": 1,
   "id": "222795ba",
   "metadata": {},
   "outputs": [
    {
     "name": "stdout",
     "output_type": "stream",
     "text": [
      "Hello World!\n"
     ]
    }
   ],
   "source": [
    "print('Hello World!')"
   ]
  },
  {
   "cell_type": "markdown",
   "id": "5a6e558b",
   "metadata": {},
   "source": [
    "### Keyboard Shortcuts"
   ]
  },
  {
   "cell_type": "markdown",
   "id": "f3cbf92a",
   "metadata": {},
   "source": [
    "First, we need to know that they are 2 modes in the Jupyter Notebook App: command mode and edit mode. I’ll start with the shortcuts shared between the two modes.<br><br>\n",
    "<b>Shortcuts in both modes:</b>\n",
    "* Shift + Enter run the current cell, select below\n",
    "* Ctrl + Enter run selected cells\n",
    "* Alt + Enter run the current cell, insert below\n",
    "* Ctrl + S save and checkpoint<br>\n",
    "\n",
    "<b>While in command mode (press Esc to activate):</b><br>\n",
    "* Enter take you into edit mode\n",
    "* H show all shortcuts\n",
    "* Up select cell above\n",
    "* Down select cell below\n",
    "* Shift + Up extend selected cells above\n",
    "* Shift + Down extend selected cells below\n",
    "* A insert cell above\n",
    "* B insert cell below\n",
    "* X cut selected cells\n",
    "* C copy selected cells\n",
    "* V paste cells below\n",
    "* Shift + V paste cells above\n",
    "* D, D (press the key twice) delete selected cells\n",
    "* Z undo cell deletion\n",
    "* S Save and Checkpoint\n",
    "* Y change the cell type to Code\n",
    "* M change the cell type to Markdown\n",
    "* P open the command palette.\n",
    "* Shift + Space scroll notebook up\n",
    "* Space scroll notebook down<br><br>\n",
    "<b>While in edit mode (pressEnter to activate)</b><br><br>\n",
    "* Esc take you into command mode\n",
    "* Tab code completion or indent\n",
    "* Shift + Tab tooltip\n",
    "* Ctrl + ] indent\n",
    "* Ctrl + [ dedent\n",
    "* Ctrl + A select all\n",
    "* Ctrl + Z undo\n",
    "* Ctrl + Shift + Z or Ctrl + Y redo\n",
    "* Ctrl + Home go to cell start\n",
    "* Ctrl + End go to cell end\n",
    "* Ctrl + Left go one word left\n",
    "* Ctrl + Right go one word right\n",
    "* Ctrl + Shift + P open the command palette\n",
    "* Down move cursor down\n",
    "* Up move cursor up"
   ]
  },
  {
   "cell_type": "markdown",
   "id": "2b5211c6",
   "metadata": {},
   "source": [
    "***"
   ]
  }
 ],
 "metadata": {
  "kernelspec": {
   "display_name": "Python 3 (ipykernel)",
   "language": "python",
   "name": "python3"
  },
  "language_info": {
   "codemirror_mode": {
    "name": "ipython",
    "version": 3
   },
   "file_extension": ".py",
   "mimetype": "text/x-python",
   "name": "python",
   "nbconvert_exporter": "python",
   "pygments_lexer": "ipython3",
   "version": "3.11.7"
  }
 },
 "nbformat": 4,
 "nbformat_minor": 5
}
