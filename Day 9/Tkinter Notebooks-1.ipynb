{
 "cells": [
  {
   "cell_type": "markdown",
   "metadata": {},
   "source": [
    "# <span style = \"color:CornflowerBlue;font-size:40px\"> Tkinter </span>"
   ]
  },
  {
   "cell_type": "markdown",
   "metadata": {},
   "source": [
    "***"
   ]
  },
  {
   "cell_type": "markdown",
   "metadata": {},
   "source": [
    "   * Used to build Graphical User Interface based application\n",
    "   * It is an Inbuild Python Library\n",
    "   * Normal Execution Procedure in Tkinter\n",
    "       1. Import the Tkinter Module\n",
    "       2. Create the Applicatio window\n",
    "       3. Add widgets\n",
    "       4. Enter the Main even Loop"
   ]
  },
  {
   "cell_type": "markdown",
   "metadata": {},
   "source": [
    "***"
   ]
  },
  {
   "cell_type": "markdown",
   "metadata": {},
   "source": [
    "**Tkinter Widgets**\n",
    "  * Labels\n",
    "  * Buttons\n",
    "  * Entry\n",
    "  * Combo Box\n",
    "  * Check Button\n",
    "  * Radio Button\n",
    "  * Scrolled Text\n",
    "  * Spin Box\n",
    "  * Menu Bar\n",
    "  * Notebook\n",
    "  "
   ]
  },
  {
   "cell_type": "markdown",
   "metadata": {},
   "source": [
    "**Creating Window**"
   ]
  },
  {
   "cell_type": "code",
   "execution_count": 1,
   "metadata": {},
   "outputs": [],
   "source": [
    "from tkinter import *\n",
    "\n",
    "window = Tk()\n",
    "\n",
    "window.title(\"Edure\")\n",
    "\n",
    "window.mainloop()"
   ]
  },
  {
   "cell_type": "markdown",
   "metadata": {},
   "source": [
    "**Label**\n",
    ">lbl = Label(window, text=\"Hello\")\n",
    "<br>lbl.grid(column=0, row=0)\n",
    "<br>Grid sets the position for the label"
   ]
  },
  {
   "cell_type": "code",
   "execution_count": 4,
   "metadata": {},
   "outputs": [],
   "source": [
    "from tkinter import *\n",
    "\n",
    "window = Tk()\n",
    "\n",
    "window.title(\"Edure\")\n",
    "\n",
    "lbl = Label(window, text=\"Hello\")\n",
    "\n",
    "lbl.grid(column=0, row=0)\n",
    "\n",
    "window.mainloop()"
   ]
  },
  {
   "cell_type": "markdown",
   "metadata": {},
   "source": [
    "**To set the font size**\n",
    ">lbl= Label(window, text=\"Hello\", font=(\"Arial Bold\", 50))"
   ]
  },
  {
   "cell_type": "code",
   "execution_count": 5,
   "metadata": {},
   "outputs": [],
   "source": [
    "from tkinter import *\n",
    "window = Tk()\n",
    "window.title(\"Edure\")\n",
    "lbl= Label(window, text=\"Hello World\", font=(\"Arial Bold\", 50))\n",
    "lbl.grid(column=0, row=0)\n",
    "window.mainloop()"
   ]
  },
  {
   "cell_type": "markdown",
   "metadata": {},
   "source": [
    "**Setting window size**\n",
    ">window.geometry('350x200')\n",
    "<br>The above line sets the window width to 350 pixels and the height to 200 pixels."
   ]
  },
  {
   "cell_type": "markdown",
   "metadata": {},
   "source": [
    "**Adding a button widget**\n",
    ">btn = Button(window, text=\"Click Me\")\n",
    "<br>btn.grid(column=1, row=0)"
   ]
  },
  {
   "cell_type": "code",
   "execution_count": null,
   "metadata": {},
   "outputs": [],
   "source": [
    "from tkinter import *\n",
    "window = Tk()\n",
    "window.title(\"Edure\")\n",
    "window.geometry('350x200')\n",
    "lbl = Label(window, text=\"Hello\")\n",
    "lbl.grid(column=0, row=0)\n",
    "btn = Button(window, text=\"Click Me\")\n",
    "btn.grid(column=1, row=0)\n",
    "window.mainloop()\n"
   ]
  },
  {
   "cell_type": "markdown",
   "metadata": {},
   "source": [
    "**Change button foreground and background colors**\n",
    ">btn = Button(window, text=\"Click Me\", bg=\"orange\", fg=\"red\")"
   ]
  },
  {
   "cell_type": "markdown",
   "metadata": {},
   "source": [
    "**Handle button click event**\n",
    ">def clicked():\n",
    "    >>lbl.configure(text=\"Button was clicked !!\")"
   ]
  },
  {
   "cell_type": "code",
   "execution_count": 2,
   "metadata": {},
   "outputs": [],
   "source": [
    "from tkinter import *\n",
    "\n",
    "window = Tk()\n",
    "\n",
    "window.title(\"Edure\")\n",
    "\n",
    "window.geometry('350x200')\n",
    "\n",
    "lbl = Label(window, text=\"Hello\")\n",
    "lbl1= Label(window)\n",
    "lbl1.grid(column=1,row=1)\n",
    "lbl.grid(column=0, row=0)\n",
    "\n",
    "def clicked():\n",
    "\n",
    "    lbl1.configure(text=\"Button was clicked !!\")\n",
    "\n",
    "btn = Button(window, text=\"Click Me\", command=clicked)\n",
    "\n",
    "btn.grid(column=1, row=0)\n",
    "\n",
    "window.mainloop()"
   ]
  },
  {
   "cell_type": "markdown",
   "metadata": {},
   "source": [
    "**Entry(Text Box)**\n",
    ">txt = Entry(window,width=10)\n",
    "<br>txt.grid(column=1, row=0)"
   ]
  },
  {
   "cell_type": "code",
   "execution_count": 8,
   "metadata": {},
   "outputs": [],
   "source": [
    "from tkinter import *\n",
    "\n",
    "window = Tk()\n",
    "\n",
    "window.title(\"Edure\")\n",
    "\n",
    "window.geometry('350x200')\n",
    "\n",
    "lbl = Label(window, text=\"Hello\")\n",
    "\n",
    "lbl.grid(column=0, row=0)\n",
    "\n",
    "txt = Entry(window,width=10)\n",
    "\n",
    "txt.grid(column=1, row=0)\n",
    "\n",
    "def clicked():\n",
    "\n",
    "    lbl.configure(text=\"Button was clicked !!\")\n",
    "\n",
    "btn = Button(window, text=\"Click Me\", command=clicked)\n",
    "\n",
    "btn.grid(column=2, row=0)\n",
    "\n",
    "window.mainloop()"
   ]
  },
  {
   "cell_type": "code",
   "execution_count": 9,
   "metadata": {},
   "outputs": [],
   "source": [
    "# Showing the result\n",
    "def clicked():\n",
    "\n",
    "    res = \"Welcome to \" + txt.get()\n",
    "\n",
    "    lbl.configure(text= res)"
   ]
  },
  {
   "cell_type": "code",
   "execution_count": 23,
   "metadata": {},
   "outputs": [],
   "source": [
    "from tkinter import *\n",
    "\n",
    "window = Tk()\n",
    "\n",
    "window.title(\"Edure\")\n",
    "\n",
    "window.geometry('350x200')\n",
    "\n",
    "lbl = Label(window, text=\"Hello\")\n",
    "\n",
    "lbl.grid(column=0, row=0)\n",
    "\n",
    "txt = Entry(window,width=10)\n",
    "txt.focus()\n",
    "\n",
    "txt.grid(column=1, row=0)\n",
    "\n",
    "def clicked():\n",
    "\n",
    "    res = \"Welcome to \" + txt.get()\n",
    "\n",
    "    lbl.configure(text= res)\n",
    "\n",
    "btn = Button(window, text=\"Click Me\", command=clicked)\n",
    "\n",
    "btn.grid(column=2, row=0)\n",
    "\n",
    "window.mainloop()"
   ]
  },
  {
   "cell_type": "markdown",
   "metadata": {},
   "source": [
    "**Disable entry widget**\n",
    ">txt = Entry(window,width=10, state='disabled')"
   ]
  },
  {
   "cell_type": "markdown",
   "metadata": {},
   "source": [
    "**Add a combobox widget**\n",
    "* To add a combobox widget, you can use the Combobox class from ttk library like this:\n",
    "    > from tkinter.ttk import *\n",
    "    <BR>  combo = Combobox(window)"
   ]
  },
  {
   "cell_type": "code",
   "execution_count": 21,
   "metadata": {},
   "outputs": [],
   "source": [
    "from tkinter import *\n",
    "from tkinter.ttk import *\n",
    "window = Tk()\n",
    "window.title(\"Welcome to Edure\")\n",
    "window.geometry('350x200')\n",
    "combo = Combobox(window)\n",
    "combo['values']= (1, 2, 3, 4, 5, \"Text\")\n",
    "combo.current(1) #set the selected item\n",
    "combo.grid(column=0, row=0)\n",
    "window.mainloop()"
   ]
  },
  {
   "cell_type": "markdown",
   "metadata": {},
   "source": [
    "**Add a Checkbutton widget**"
   ]
  },
  {
   "cell_type": "code",
   "execution_count": 4,
   "metadata": {},
   "outputs": [],
   "source": [
    "from tkinter import *\n",
    "\n",
    "from tkinter.ttk import *\n",
    "\n",
    "window = Tk()\n",
    "\n",
    "window.title(\"Welcome to Edure\")\n",
    "\n",
    "window.geometry('350x200')\n",
    "\n",
    "chk_state = BooleanVar()\n",
    "#or you can use IntVar()\n",
    "\n",
    "chk_state.set(False) #set check state\n",
    "\n",
    "chk = Checkbutton(window, text='Choose', var=chk_state)\n",
    "\n",
    "chk.grid(column=0, row=0)\n",
    "\n",
    "window.mainloop()"
   ]
  },
  {
   "cell_type": "markdown",
   "metadata": {},
   "source": [
    "**Radio Button**"
   ]
  },
  {
   "cell_type": "code",
   "execution_count": null,
   "metadata": {},
   "outputs": [],
   "source": [
    "from tkinter import *\n",
    "\n",
    "from tkinter.ttk import *\n",
    "\n",
    "window = Tk()\n",
    "\n",
    "window.title(\"Welcome to Edure\")\n",
    "\n",
    "window.geometry('350x200')\n",
    "\n",
    "rad1 = Radiobutton(window,text='First', value=1)\n",
    "\n",
    "rad2 = Radiobutton(window,text='Second', value=2)\n",
    "\n",
    "rad3 = Radiobutton(window,text='Third', value=3)\n",
    "\n",
    "rad1.grid(column=0, row=0)\n",
    "\n",
    "rad2.grid(column=1, row=0)\n",
    "\n",
    "rad3.grid(column=2, row=0)\n",
    "\n",
    "window.mainloop()"
   ]
  },
  {
   "cell_type": "markdown",
   "metadata": {},
   "source": [
    "Also, you can set the command of any of these radio buttons to a specific function, so if the user clicks on any one of them, it runs the function code.\n",
    "\n",
    "This is an example:\n",
    "\n",
    "rad1 = Radiobutton(window,text='First', value=1, command=clicked)\n",
    "\n",
    "def clicked():\n",
    "<br>Do what you need"
   ]
  },
  {
   "cell_type": "markdown",
   "metadata": {},
   "source": [
    "**To get the currently selected radio button or the radio button value, you can pass the variable parameter to the radio buttons, and later you can get its value**"
   ]
  },
  {
   "cell_type": "code",
   "execution_count": 1,
   "metadata": {},
   "outputs": [
    {
     "name": "stdout",
     "output_type": "stream",
     "text": [
      "0\n",
      "0\n",
      "0\n",
      "0\n"
     ]
    }
   ],
   "source": [
    "from tkinter import *\n",
    "\n",
    "from tkinter.ttk import *\n",
    "\n",
    "window = Tk()\n",
    "\n",
    "window.title(\"Welcome to Edure\")\n",
    "\n",
    "selected = IntVar()\n",
    "\n",
    "rad1 = Radiobutton(window,text='First', value=1, variable=selected)\n",
    "\n",
    "rad2 = Radiobutton(window,text='Second', value=2, variable=selected)\n",
    "\n",
    "rad3 = Radiobutton(window,text='Third', value=3, variable=selected)\n",
    "\n",
    "def clicked():\n",
    "\n",
    "    print(selected.get())\n",
    "\n",
    "btn = Button(window, text=\"Click Me\", command=clicked)\n",
    "\n",
    "rad1.grid(column=0, row=0)\n",
    "\n",
    "rad2.grid(column=1, row=0)\n",
    "\n",
    "rad3.grid(column=2, row=0)\n",
    "\n",
    "btn.grid(column=3, row=0)\n",
    "\n",
    "window.mainloop()"
   ]
  },
  {
   "cell_type": "markdown",
   "metadata": {},
   "source": [
    "**Add a ScrolledText widget (Tkinter textarea)**"
   ]
  },
  {
   "cell_type": "code",
   "execution_count": null,
   "metadata": {},
   "outputs": [],
   "source": [
    "from tkinter import *\n",
    "\n",
    "from tkinter import scrolledtext\n",
    "\n",
    "window = Tk()\n",
    "\n",
    "window.title(\"Welcome to Edure\")\n",
    "\n",
    "window.geometry('350x200')\n",
    "\n",
    "txt = scrolledtext.ScrolledText(window,width=40,height=10)\n",
    "txt.insert(INSERT,'You text goes here') #:-To insert text contents in the text area \n",
    "#txt.delete(1.0,END):- To clear the text contents\n",
    "\n",
    "txt.grid(column=0,row=0)\n",
    "#txt.get(1,2)\n",
    "\n",
    "window.mainloop()"
   ]
  },
  {
   "cell_type": "markdown",
   "metadata": {},
   "source": [
    "**Create a MessageBox**\n",
    "\n",
    "To show a message box using Tkinter, you can use the messagebox library like this:\n",
    "\n",
    "from tkinter import messagebox\n",
    "\n",
    "messagebox.showinfo('Message title','Message content')"
   ]
  },
  {
   "cell_type": "code",
   "execution_count": null,
   "metadata": {},
   "outputs": [],
   "source": [
    "from tkinter import *\n",
    "\n",
    "from tkinter import messagebox\n",
    "\n",
    "window = Tk()\n",
    "\n",
    "window.title(\"Welcome to Edure\")\n",
    "\n",
    "window.geometry('350x200')\n",
    "\n",
    "def clicked():\n",
    "\n",
    "    messagebox.showinfo('Message title', 'Message content')\n",
    "\n",
    "btn = Button(window,text='Click here', command=clicked)\n",
    "\n",
    "btn.grid(column=0,row=0)\n",
    "\n",
    "window.mainloop()\n"
   ]
  },
  {
   "cell_type": "markdown",
   "metadata": {},
   "source": [
    "**Show warning**\n",
    "<br>You can show a warning message or error message in the same way. The only thing that needs to be changed is the message function\n",
    "\n",
    "messagebox.showwarning('Message title', 'Message content')  #shows warning message\n",
    "\n"
   ]
  },
  {
   "cell_type": "code",
   "execution_count": null,
   "metadata": {},
   "outputs": [],
   "source": [
    "from tkinter import *\n",
    "\n",
    "from tkinter import messagebox\n",
    "\n",
    "window = Tk()\n",
    "\n",
    "window.title(\"Welcome to Edure\")\n",
    "\n",
    "window.geometry('350x200')\n",
    "\n",
    "def clicked():\n",
    "\n",
    "    messagebox.showwarning('Message title', 'Message content')\n",
    "\n",
    "btn = Button(window,text='Click here', command=clicked)\n",
    "\n",
    "btn.grid(column=0,row=0)\n",
    "\n",
    "window.mainloop()"
   ]
  },
  {
   "cell_type": "markdown",
   "metadata": {},
   "source": [
    "**Showerror**\n",
    "<br>messagebox.showerror('Message title', 'Message content')"
   ]
  },
  {
   "cell_type": "code",
   "execution_count": 2,
   "metadata": {},
   "outputs": [],
   "source": [
    "from tkinter import *\n",
    "\n",
    "from tkinter import messagebox\n",
    "\n",
    "window = Tk()\n",
    "\n",
    "window.title(\"Welcome to Edure\")\n",
    "\n",
    "window.geometry('350x200')\n",
    "\n",
    "def clicked():\n",
    "\n",
    "    messagebox.showerror('Message title', 'Message content')\n",
    "\n",
    "btn = Button(window,text='Click here', command=clicked)\n",
    "\n",
    "btn.grid(column=0,row=0)\n",
    "\n",
    "window.mainloop()"
   ]
  },
  {
   "cell_type": "markdown",
   "metadata": {},
   "source": [
    "**Different askquestion dialogs**"
   ]
  },
  {
   "cell_type": "code",
   "execution_count": null,
   "metadata": {},
   "outputs": [],
   "source": [
    "from tkinter import *\n",
    "from tkinter import messagebox\n",
    "window = Tk()\n",
    "res = messagebox.askquestion('Message title','Message content')\n",
    "window.mainloop()"
   ]
  },
  {
   "cell_type": "code",
   "execution_count": null,
   "metadata": {},
   "outputs": [],
   "source": [
    "from tkinter import *\n",
    "window = Tk()\n",
    "from tkinter import messagebox\n",
    "res = messagebox.askyesno('Message title','Message content')\n",
    "window.mainloop()"
   ]
  },
  {
   "cell_type": "code",
   "execution_count": null,
   "metadata": {},
   "outputs": [],
   "source": [
    "from tkinter import *\n",
    "window = Tk()\n",
    "from tkinter import messagebox\n",
    "res = messagebox.askyesnocancel('Message title','Message content')\n",
    "window.mainloop()"
   ]
  },
  {
   "cell_type": "code",
   "execution_count": null,
   "metadata": {},
   "outputs": [],
   "source": [
    "from tkinter import *\n",
    "window = Tk()\n",
    "from tkinter import messagebox\n",
    "res = messagebox.askokcancel('Message title','Message content')\n",
    "window.mainloop()"
   ]
  },
  {
   "cell_type": "code",
   "execution_count": null,
   "metadata": {},
   "outputs": [],
   "source": [
    "from tkinter import *\n",
    "window = Tk()\n",
    "from tkinter import messagebox\n",
    "res = messagebox.askretrycancel('Message title','Message content')\n",
    "window.mainloop()"
   ]
  },
  {
   "cell_type": "markdown",
   "metadata": {},
   "source": [
    "**Add a SpinBox** (numbers widget)"
   ]
  },
  {
   "cell_type": "code",
   "execution_count": null,
   "metadata": {},
   "outputs": [],
   "source": [
    "from tkinter import *\n",
    "\n",
    "window = Tk()\n",
    "\n",
    "window.title(\"Welcome to Edure\")\n",
    "\n",
    "window.geometry('350x200')\n",
    "\n",
    "spin = Spinbox(window, from_=0, to=100, width=5)\n",
    "\n",
    "spin.grid(column=0,row=0)\n",
    "\n",
    "window.mainloop()"
   ]
  },
  {
   "cell_type": "markdown",
   "metadata": {},
   "source": [
    "You can specify the numbers for the Spinbox instead of using the whole range like this:\n",
    "\n",
    "spin = Spinbox(window, values=(3, 8, 11), width=5)"
   ]
  },
  {
   "cell_type": "code",
   "execution_count": null,
   "metadata": {},
   "outputs": [],
   "source": [
    "from tkinter import *\n",
    "\n",
    "window = Tk()\n",
    "\n",
    "window.title(\"Welcome to Edure\")\n",
    "\n",
    "window.geometry('350x200')\n",
    "\n",
    "spin = Spinbox(window, values=(3, 8, 11,15), width=3)\n",
    "\n",
    "spin.grid(column=0,row=0)\n",
    "\n",
    "window.mainloop()"
   ]
  },
  {
   "cell_type": "markdown",
   "metadata": {},
   "source": [
    "**Set default value for Spinbox**\n",
    "<br>To set the Spinbox default value, you can pass the value to the textvariable parameter"
   ]
  },
  {
   "cell_type": "code",
   "execution_count": 3,
   "metadata": {},
   "outputs": [],
   "source": [
    "from tkinter import *\n",
    "\n",
    "window = Tk()\n",
    "\n",
    "window.title(\"Welcome to Edure\")\n",
    "\n",
    "window.geometry('350x200')\n",
    "\n",
    "var =IntVar()\n",
    "\n",
    "var.set(36)\n",
    "\n",
    "spin = Spinbox(window, from_=0, to=100, width=5, textvariable=var)\n",
    "\n",
    "spin.grid(column=0,row=0)\n",
    "\n",
    "window.mainloop()"
   ]
  },
  {
   "cell_type": "markdown",
   "metadata": {},
   "source": [
    "***"
   ]
  }
 ],
 "metadata": {
  "kernelspec": {
   "display_name": "Python 3 (ipykernel)",
   "language": "python",
   "name": "python3"
  },
  "language_info": {
   "codemirror_mode": {
    "name": "ipython",
    "version": 3
   },
   "file_extension": ".py",
   "mimetype": "text/x-python",
   "name": "python",
   "nbconvert_exporter": "python",
   "pygments_lexer": "ipython3",
   "version": "3.11.7"
  }
 },
 "nbformat": 4,
 "nbformat_minor": 4
}
